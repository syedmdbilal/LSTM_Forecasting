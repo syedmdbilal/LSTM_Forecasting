{
 "cells": [
  {
   "cell_type": "code",
   "execution_count": 1,
   "id": "3b43ef02",
   "metadata": {},
   "outputs": [],
   "source": [
    "# First we will import the necessary Library \n",
    "import os\n",
    "import pandas as pd\n",
    "import numpy as np\n",
    "import datetime as dt\n",
    "from itertools import cycle\n",
    "import plotly.express as px"
   ]
  },
  {
   "cell_type": "code",
   "execution_count": 2,
   "id": "e93e3cd4",
   "metadata": {},
   "outputs": [],
   "source": [
    "#Load the dataset\n",
    "data = pd.read_excel(\"Data.xlsx\")\n",
    "\n",
    "pd.set_option('display.max_rows', None)"
   ]
  },
  {
   "cell_type": "code",
   "execution_count": 3,
   "id": "edd46e13",
   "metadata": {},
   "outputs": [
    {
     "data": {
      "text/html": [
       "<div>\n",
       "<style scoped>\n",
       "    .dataframe tbody tr th:only-of-type {\n",
       "        vertical-align: middle;\n",
       "    }\n",
       "\n",
       "    .dataframe tbody tr th {\n",
       "        vertical-align: top;\n",
       "    }\n",
       "\n",
       "    .dataframe thead th {\n",
       "        text-align: right;\n",
       "    }\n",
       "</style>\n",
       "<table border=\"1\" class=\"dataframe\">\n",
       "  <thead>\n",
       "    <tr style=\"text-align: right;\">\n",
       "      <th></th>\n",
       "      <th>Date</th>\n",
       "      <th>Domestic Market (Contract) Blow Molding, Low</th>\n",
       "      <th>Spot/Export Blow Molding</th>\n",
       "      <th>Spot, Domestic</th>\n",
       "      <th>WTISPLC</th>\n",
       "      <th>MCOILBRENTEU</th>\n",
       "      <th>GASREGM</th>\n",
       "      <th>IMPCH</th>\n",
       "      <th>EXPCH</th>\n",
       "      <th>PRUBBUSDM</th>\n",
       "      <th>...</th>\n",
       "      <th>Russia_import</th>\n",
       "      <th>South_Africa_import</th>\n",
       "      <th>Turkey_import</th>\n",
       "      <th>Brazil_import</th>\n",
       "      <th>France_import</th>\n",
       "      <th>Germeny_import</th>\n",
       "      <th>United Kingdome_import</th>\n",
       "      <th>China_import</th>\n",
       "      <th>Japan_import</th>\n",
       "      <th>South_korea_import</th>\n",
       "    </tr>\n",
       "  </thead>\n",
       "  <tbody>\n",
       "    <tr>\n",
       "      <th>0</th>\n",
       "      <td>2000-01-01</td>\n",
       "      <td>41.0</td>\n",
       "      <td>NaN</td>\n",
       "      <td>NaN</td>\n",
       "      <td>27.18</td>\n",
       "      <td>25.51</td>\n",
       "      <td>1.289</td>\n",
       "      <td>6902.1</td>\n",
       "      <td>863.1</td>\n",
       "      <td>29.207387</td>\n",
       "      <td>...</td>\n",
       "      <td>NaN</td>\n",
       "      <td>NaN</td>\n",
       "      <td>6833222.0</td>\n",
       "      <td>2649293.0</td>\n",
       "      <td>35239920.0</td>\n",
       "      <td>NaN</td>\n",
       "      <td>NaN</td>\n",
       "      <td>NaN</td>\n",
       "      <td>NaN</td>\n",
       "      <td>NaN</td>\n",
       "    </tr>\n",
       "    <tr>\n",
       "      <th>1</th>\n",
       "      <td>2000-02-01</td>\n",
       "      <td>41.0</td>\n",
       "      <td>NaN</td>\n",
       "      <td>NaN</td>\n",
       "      <td>29.35</td>\n",
       "      <td>27.78</td>\n",
       "      <td>1.377</td>\n",
       "      <td>6584.4</td>\n",
       "      <td>972.7</td>\n",
       "      <td>33.391099</td>\n",
       "      <td>...</td>\n",
       "      <td>NaN</td>\n",
       "      <td>NaN</td>\n",
       "      <td>5647987.0</td>\n",
       "      <td>2787667.0</td>\n",
       "      <td>36716752.0</td>\n",
       "      <td>NaN</td>\n",
       "      <td>NaN</td>\n",
       "      <td>NaN</td>\n",
       "      <td>NaN</td>\n",
       "      <td>NaN</td>\n",
       "    </tr>\n",
       "    <tr>\n",
       "      <th>2</th>\n",
       "      <td>2000-03-01</td>\n",
       "      <td>45.0</td>\n",
       "      <td>NaN</td>\n",
       "      <td>NaN</td>\n",
       "      <td>29.89</td>\n",
       "      <td>27.49</td>\n",
       "      <td>1.516</td>\n",
       "      <td>6424.1</td>\n",
       "      <td>1330.5</td>\n",
       "      <td>30.941913</td>\n",
       "      <td>...</td>\n",
       "      <td>NaN</td>\n",
       "      <td>NaN</td>\n",
       "      <td>6721125.0</td>\n",
       "      <td>4692701.0</td>\n",
       "      <td>45144561.0</td>\n",
       "      <td>NaN</td>\n",
       "      <td>NaN</td>\n",
       "      <td>NaN</td>\n",
       "      <td>NaN</td>\n",
       "      <td>NaN</td>\n",
       "    </tr>\n",
       "    <tr>\n",
       "      <th>3</th>\n",
       "      <td>2000-04-01</td>\n",
       "      <td>47.0</td>\n",
       "      <td>NaN</td>\n",
       "      <td>NaN</td>\n",
       "      <td>25.74</td>\n",
       "      <td>22.76</td>\n",
       "      <td>1.465</td>\n",
       "      <td>7070.5</td>\n",
       "      <td>1227.5</td>\n",
       "      <td>31.930148</td>\n",
       "      <td>...</td>\n",
       "      <td>NaN</td>\n",
       "      <td>NaN</td>\n",
       "      <td>7169182.0</td>\n",
       "      <td>2565068.0</td>\n",
       "      <td>32240349.0</td>\n",
       "      <td>NaN</td>\n",
       "      <td>NaN</td>\n",
       "      <td>NaN</td>\n",
       "      <td>NaN</td>\n",
       "      <td>NaN</td>\n",
       "    </tr>\n",
       "    <tr>\n",
       "      <th>4</th>\n",
       "      <td>2000-05-01</td>\n",
       "      <td>47.0</td>\n",
       "      <td>NaN</td>\n",
       "      <td>NaN</td>\n",
       "      <td>28.78</td>\n",
       "      <td>27.74</td>\n",
       "      <td>1.487</td>\n",
       "      <td>7850.2</td>\n",
       "      <td>1526.3</td>\n",
       "      <td>31.201702</td>\n",
       "      <td>...</td>\n",
       "      <td>NaN</td>\n",
       "      <td>NaN</td>\n",
       "      <td>10466333.0</td>\n",
       "      <td>4671325.0</td>\n",
       "      <td>29351633.0</td>\n",
       "      <td>NaN</td>\n",
       "      <td>NaN</td>\n",
       "      <td>NaN</td>\n",
       "      <td>NaN</td>\n",
       "      <td>NaN</td>\n",
       "    </tr>\n",
       "  </tbody>\n",
       "</table>\n",
       "<p>5 rows × 50 columns</p>\n",
       "</div>"
      ],
      "text/plain": [
       "        Date  Domestic Market (Contract) Blow Molding, Low  \\\n",
       "0 2000-01-01                                          41.0   \n",
       "1 2000-02-01                                          41.0   \n",
       "2 2000-03-01                                          45.0   \n",
       "3 2000-04-01                                          47.0   \n",
       "4 2000-05-01                                          47.0   \n",
       "\n",
       "   Spot/Export Blow Molding  Spot, Domestic  WTISPLC  MCOILBRENTEU  GASREGM  \\\n",
       "0                       NaN             NaN    27.18         25.51    1.289   \n",
       "1                       NaN             NaN    29.35         27.78    1.377   \n",
       "2                       NaN             NaN    29.89         27.49    1.516   \n",
       "3                       NaN             NaN    25.74         22.76    1.465   \n",
       "4                       NaN             NaN    28.78         27.74    1.487   \n",
       "\n",
       "    IMPCH   EXPCH  PRUBBUSDM  ...  Russia_import  South_Africa_import  \\\n",
       "0  6902.1   863.1  29.207387  ...            NaN                  NaN   \n",
       "1  6584.4   972.7  33.391099  ...            NaN                  NaN   \n",
       "2  6424.1  1330.5  30.941913  ...            NaN                  NaN   \n",
       "3  7070.5  1227.5  31.930148  ...            NaN                  NaN   \n",
       "4  7850.2  1526.3  31.201702  ...            NaN                  NaN   \n",
       "\n",
       "   Turkey_import  Brazil_import  France_import  Germeny_import  \\\n",
       "0      6833222.0      2649293.0     35239920.0             NaN   \n",
       "1      5647987.0      2787667.0     36716752.0             NaN   \n",
       "2      6721125.0      4692701.0     45144561.0             NaN   \n",
       "3      7169182.0      2565068.0     32240349.0             NaN   \n",
       "4     10466333.0      4671325.0     29351633.0             NaN   \n",
       "\n",
       "   United Kingdome_import  China_import  Japan_import  South_korea_import  \n",
       "0                     NaN           NaN           NaN                 NaN  \n",
       "1                     NaN           NaN           NaN                 NaN  \n",
       "2                     NaN           NaN           NaN                 NaN  \n",
       "3                     NaN           NaN           NaN                 NaN  \n",
       "4                     NaN           NaN           NaN                 NaN  \n",
       "\n",
       "[5 rows x 50 columns]"
      ]
     },
     "execution_count": 3,
     "metadata": {},
     "output_type": "execute_result"
    }
   ],
   "source": [
    "data.head()"
   ]
  },
  {
   "cell_type": "code",
   "execution_count": 4,
   "id": "58d713f8",
   "metadata": {},
   "outputs": [
    {
     "data": {
      "text/plain": [
       "0"
      ]
     },
     "execution_count": 4,
     "metadata": {},
     "output_type": "execute_result"
    }
   ],
   "source": [
    "data['Domestic Market (Contract) Blow Molding, Low'].isnull().sum()"
   ]
  },
  {
   "cell_type": "code",
   "execution_count": 5,
   "id": "e4b623c2",
   "metadata": {},
   "outputs": [],
   "source": [
    "df=data.loc[:,'Domestic Market (Contract) Blow Molding, Low']"
   ]
  },
  {
   "cell_type": "code",
   "execution_count": 6,
   "id": "e6e4b68d",
   "metadata": {},
   "outputs": [
    {
     "name": "stdout",
     "output_type": "stream",
     "text": [
      "(276, 1)\n"
     ]
    }
   ],
   "source": [
    "from sklearn.preprocessing import MinMaxScaler\n",
    "\n",
    "#normalizing using MinMax Scaler\n",
    "scaler=MinMaxScaler(feature_range=(0,1))\n",
    "df1=scaler.fit_transform(np.array(df).reshape(-1,1))\n",
    "print(df1.shape)"
   ]
  },
  {
   "cell_type": "code",
   "execution_count": 7,
   "id": "186b712c",
   "metadata": {},
   "outputs": [
    {
     "name": "stdout",
     "output_type": "stream",
     "text": [
      "train_data:  (220, 1)\n",
      "test_data:  (56, 1)\n"
     ]
    }
   ],
   "source": [
    "training_size=int(len(df1)*0.80)\n",
    "test_size=len(df1)-training_size\n",
    "train_data,test_data=df1[0:training_size,:],df1[training_size:len(df1),:1]\n",
    "print(\"train_data: \", train_data.shape)\n",
    "print(\"test_data: \", test_data.shape)"
   ]
  },
  {
   "cell_type": "code",
   "execution_count": 8,
   "id": "ec4fef1d",
   "metadata": {},
   "outputs": [],
   "source": [
    "from tensorflow.keras.models import load_model\n",
    "model1 = load_model('model.h5')"
   ]
  },
  {
   "cell_type": "code",
   "execution_count": 9,
   "id": "21a8b3b3",
   "metadata": {},
   "outputs": [],
   "source": [
    "time_step = 5"
   ]
  },
  {
   "cell_type": "markdown",
   "id": "62b988a1",
   "metadata": {},
   "source": [
    "# Forecasting for next 30 days"
   ]
  },
  {
   "cell_type": "code",
   "execution_count": 10,
   "id": "a68c2684",
   "metadata": {},
   "outputs": [
    {
     "name": "stdout",
     "output_type": "stream",
     "text": [
      "Output of predicted next days:  30\n"
     ]
    }
   ],
   "source": [
    "x_input=test_data[len(test_data)-time_step:].reshape(1,-1)\n",
    "temp_input=list(x_input)\n",
    "#print(temp_input)\n",
    "temp_input=temp_input[0].tolist()\n",
    "#print(temp_input)\n",
    "\n",
    "from numpy import array\n",
    "\n",
    "lst_output=[]\n",
    "n_steps=time_step\n",
    "#print(time_step)\n",
    "i=0\n",
    "pred_days = 30\n",
    "while(i<pred_days):\n",
    "    \n",
    "    if(len(temp_input)>time_step):\n",
    "        \n",
    "        x_input=np.array(temp_input[1:])\n",
    "        #print(\"\\nDay {} input {}\".format(i,x_input))\n",
    "        x_input = x_input.reshape(1,-1)\n",
    "        x_input = x_input.reshape((1, n_steps, 1))\n",
    "        \n",
    "        yhat = model1.predict(x_input, verbose=0)\n",
    "        #print(\"Day {} output {}\".format(i,yhat[0]))\n",
    "        temp_input.extend(yhat[0].tolist())\n",
    "        temp_input=temp_input[1:]\n",
    "        #print(len(temp_input))\n",
    "       \n",
    "        lst_output.extend(yhat.tolist())\n",
    "        i=i+1\n",
    "        \n",
    "    else:\n",
    "        \n",
    "        x_input = x_input.reshape((1, n_steps,1))\n",
    "        #print(x_input)\n",
    "        yhat = model1.predict(x_input, verbose=0)\n",
    "        temp_input.extend(yhat[0].tolist())\n",
    "        \n",
    "        lst_output.extend(yhat.tolist())\n",
    "        i=i+1\n",
    "    \n",
    "print(\"Output of predicted next days: \", len(lst_output))"
   ]
  },
  {
   "cell_type": "markdown",
   "id": "e848351b",
   "metadata": {},
   "source": [
    "# Plotting the forecasted output"
   ]
  },
  {
   "cell_type": "code",
   "execution_count": 11,
   "id": "63c3d352",
   "metadata": {},
   "outputs": [],
   "source": [
    "pre_days = 30"
   ]
  },
  {
   "cell_type": "code",
   "execution_count": 12,
   "id": "8d5c8370",
   "metadata": {},
   "outputs": [
    {
     "name": "stdout",
     "output_type": "stream",
     "text": [
      "\n"
     ]
    }
   ],
   "source": [
    "temp_mat = np.empty((pre_days+pred_days+1,1))\n",
    "temp_mat[:] = np.nan\n",
    "temp_mat = temp_mat.reshape(1,-1).tolist()[0]\n",
    "\n",
    "last_original_days_value = temp_mat\n",
    "next_predicted_days_value = temp_mat\n",
    "\n",
    "last_original_days_value[0:pre_days] = scaler.inverse_transform(df1[len(df1)-pre_days:]).reshape(1,-1).tolist()[0]\n",
    "next_predicted_days_value[pre_days:] = scaler.inverse_transform(np.array(lst_output).reshape(-1,1)).reshape(1,-1).tolist()[0]\n",
    "\n",
    "new_pred_plot = pd.DataFrame({\n",
    "    'last_original_days_value':last_original_days_value,\n",
    "    'next_predicted_days_value':next_predicted_days_value\n",
    "})\n",
    "\n",
    "names = cycle(['Last 30 days with Predicted next 15 days close price'])\n",
    "\n",
    "fig = px.line(new_pred_plot,x=new_pred_plot.index, y=[new_pred_plot['last_original_days_value']],\n",
    "              labels={'value': 'Domestic Market (Contract) Blow Molding, Low','index': 'Timestamp'})\n",
    "fig.update_layout(title_text='Comparing last 30 days vs next 15 days',\n",
    "                  plot_bgcolor='white', font_size=15, font_color='black',legend_title_text='Close Price')\n",
    "\n",
    "fig.for_each_trace(lambda t:  t.update(name = next(names)))\n",
    "fig.update_xaxes(showgrid=False)\n",
    "fig.update_yaxes(showgrid=False)\n",
    "fig.show()"
   ]
  },
  {
   "cell_type": "code",
   "execution_count": null,
   "id": "c59abac1",
   "metadata": {},
   "outputs": [],
   "source": []
  },
  {
   "cell_type": "code",
   "execution_count": null,
   "id": "91d33bb3",
   "metadata": {},
   "outputs": [],
   "source": []
  },
  {
   "cell_type": "code",
   "execution_count": null,
   "id": "46eee87c",
   "metadata": {},
   "outputs": [],
   "source": []
  }
 ],
 "metadata": {
  "kernelspec": {
   "display_name": "Python 3 (ipykernel)",
   "language": "python",
   "name": "python3"
  },
  "language_info": {
   "codemirror_mode": {
    "name": "ipython",
    "version": 3
   },
   "file_extension": ".py",
   "mimetype": "text/x-python",
   "name": "python",
   "nbconvert_exporter": "python",
   "pygments_lexer": "ipython3",
   "version": "3.10.9"
  }
 },
 "nbformat": 4,
 "nbformat_minor": 5
}
